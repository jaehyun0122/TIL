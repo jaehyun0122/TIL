{
 "cells": [
  {
   "cell_type": "markdown",
   "metadata": {},
   "source": [
    "# 머신러닝"
   ]
  },
  {
   "cell_type": "code",
   "execution_count": null,
   "metadata": {},
   "outputs": [],
   "source": []
  },
  {
   "cell_type": "markdown",
   "metadata": {},
   "source": [
    "## 빅데이터 등장\n",
    "- 4차 산업 기술의 발전으로 대용량의 데이터가 디지털로 저장되고 있다.\n",
    "- 머신러닝, IoT 등 기술과 협력해 사용되고 있다.\n",
    "\n",
    "## 머신러닝\n",
    "- 빅데이터를 분석할 수 있는 도구\n",
    "- 예측, 패턴파악, 추천 시스템 등에 사용\n",
    "- 지도학습, 비지도학습, 강화학습의 종류가 있음.\n",
    "\n",
    "### 지도학습 & 비지도학습 & 강화학습\n",
    "- 지도학습 & 비지도학습\n",
    "\n",
    "예측할 결과에 대한 정답 데이터가 있는지\n",
    "\n",
    "예) 사진의 물체를 예측하는 모델\n",
    "\n",
    "=> 사진안의 물체를 알때 지도학습\n",
    "\n",
    "=> 사진안의 물체를 모를때 비지도학습\n",
    "\n",
    "- 강화학습\n",
    "데이터가 없어도 스스로 학습할 데이터 생성 => 그 데이터를 바탕으로 학습"
   ]
  },
  {
   "cell_type": "markdown",
   "metadata": {},
   "source": [
    "## 1. 자료 형테 파악하기"
   ]
  },
  {
   "cell_type": "markdown",
   "metadata": {},
   "source": [
    "### 수치형 자료\n",
    "=> 양적 자료\n",
    "\n",
    "=> 수치로 측정가능한 키, 나이, 성적 등\n",
    "\n",
    "### 범주형 자료\n",
    "=> 수치로 측정하기 어려운 성별, 지역 등\n",
    "\n",
    "#### 자료 구분 시 주의점\n",
    "1. 범주형 자료가 수치로 : 남녀 구별 시 남:1 여:2 => 범주형 자료\n",
    "2. 수치형 자료를 구간화 : 20~30세 등 => 범주형 자료\n",
    "\n",
    "\n",
    "\n"
   ]
  },
  {
   "cell_type": "markdown",
   "metadata": {},
   "source": [
    "### 범주형 자료 요약"
   ]
  },
  {
   "cell_type": "code",
   "execution_count": 3,
   "metadata": {},
   "outputs": [
    {
     "data": {
      "image/png": "[encoded data removed]",
      "text/plain": [
       "<Figure size 432x288 with 1 Axes>"
      ]
     },
     "metadata": {
      "needs_background": "light"
     },
     "output_type": "display_data"
    }
   ],
   "source": [
    "import matplotlib.pyplot as plt\n",
    "\n",
    "labels = ['A', 'B', 'C']\n",
    "ratio = [2,5,3]\n",
    "\n",
    "fig, ax = plt.subplots()\n",
    "plt.bar(labels, ratio)\n",
    "plt.show()"
   ]
  },
  {
   "cell_type": "markdown",
   "metadata": {},
   "source": [
    "### 수치형 자료 요약"
   ]
  },
  {
   "cell_type": "markdown",
   "metadata": {},
   "source": [
    "- 범주형 자료와는 달리 수치로 구성되어 있기에 통계값을 사용\n",
    "- 많은 데이터를 의미 있는 수치로 대략적 분포상태 파악가능\n",
    "- 평균\n",
    "- 퍼진 정도 측도 : 평균만으로 파악하기 부족 => 분산, 표준 편차 등 활용"
   ]
  },
  {
   "cell_type": "code",
   "execution_count": 10,
   "metadata": {},
   "outputs": [
    {
     "name": "stdout",
     "output_type": "stream",
     "text": [
      "98.4\n",
      "75.91\n"
     ]
    },
    {
     "data": {
      "image/png": "[encoded data removed]",
      "text/plain": [
       "<Figure size 432x288 with 1 Axes>"
      ]
     },
     "metadata": {
      "needs_background": "light"
     },
     "output_type": "display_data"
    }
   ],
   "source": [
    "import numpy as np\n",
    "from statistics import stdev\n",
    "\n",
    "data = np.array([100, 20, 30, 200, 142])\n",
    "## 평균\n",
    "data_mean = data.mean()\n",
    "print(round(data_mean, 2))\n",
    "\n",
    "## 표준편차\n",
    "data_stv = stdev(data)\n",
    "print(round(data_stv, 2))\n",
    "\n",
    "fig, ax = plt.subplots()\n",
    "plt.hist(data)\n",
    "plt.show()"
   ]
  },
  {
   "cell_type": "markdown",
   "metadata": {},
   "source": [
    "## 2. 데이터 전 처리"
   ]
  },
  {
   "cell_type": "markdown",
   "metadata": {},
   "source": [
    "### 머신러닝 과정\n",
    "1. 데이터 수집\n",
    "2. 데이터 분석 및 전 처리 => 머신러닝에 사용할 형태로 전 처리\n",
    "3. 머신러닝 학습\n",
    "4. 머신러닝 평가"
   ]
  },
  {
   "cell_type": "markdown",
   "metadata": {},
   "source": [
    "### 데이터 전 처리 필요성\n",
    "\n",
    "- 대부분 머신러닝 모델은 숫자 데이터 입력 받는다\n",
    "- 다양한 데이터 형태(이미지, 자연어 등)\n",
    "- 머신러닝 모델이 이해할 수 있는 수치형 자료로 변환\n",
    "- 데이터 정제 : 데이터의 결측값 및 이상치 처리\n",
    "- 데이터 분리 : 학습용 및 평가용 데이터 분리\n"
   ]
  },
  {
   "cell_type": "markdown",
   "metadata": {},
   "source": [
    "### 범주형 자료 전 처리"
   ]
  },
  {
   "cell_type": "markdown",
   "metadata": {},
   "source": [
    "#### 타이타닉 생존자 데이터\n",
    "\n",
    "- 명목형 자료 : 수치크기 의미 없음\n",
    "    - 수치 맵핑 변환\n",
    "    \n",
    "    0,1로 매핑 => 0,100 등은 모델에 따라 성능 달라질 수 있다.\n",
    "    - 더미 기법\n",
    "    \n",
    "    각 범주를 0 or 1로 변환\n",
    "- 순서형\n",
    "    - 수치 매핑 변환"
   ]
  },
  {
   "cell_type": "code",
   "execution_count": 19,
   "metadata": {},
   "outputs": [
    {
     "data": {
      "text/html": [
       "<div>\n",
       "<style scoped>\n",
       "    .dataframe tbody tr th:only-of-type {\n",
       "        vertical-align: middle;\n",
       "    }\n",
       "\n",
       "    .dataframe tbody tr th {\n",
       "        vertical-align: top;\n",
       "    }\n",
       "\n",
       "    .dataframe thead th {\n",
       "        text-align: right;\n",
       "    }\n",
       "</style>\n",
       "<table border=\"1\" class=\"dataframe\">\n",
       "  <thead>\n",
       "    <tr style=\"text-align: right;\">\n",
       "      <th></th>\n",
       "      <th>survived</th>\n",
       "      <th>pclass</th>\n",
       "      <th>sex</th>\n",
       "      <th>age</th>\n",
       "      <th>sibsp</th>\n",
       "      <th>parch</th>\n",
       "      <th>fare</th>\n",
       "      <th>embarked</th>\n",
       "      <th>class</th>\n",
       "      <th>who</th>\n",
       "      <th>adult_male</th>\n",
       "      <th>deck</th>\n",
       "      <th>embark_town</th>\n",
       "      <th>alive</th>\n",
       "      <th>alone</th>\n",
       "    </tr>\n",
       "  </thead>\n",
       "  <tbody>\n",
       "    <tr>\n",
       "      <th>0</th>\n",
       "      <td>0</td>\n",
       "      <td>3</td>\n",
       "      <td>male</td>\n",
       "      <td>22.0</td>\n",
       "      <td>1</td>\n",
       "      <td>0</td>\n",
       "      <td>7.2500</td>\n",
       "      <td>S</td>\n",
       "      <td>Third</td>\n",
       "      <td>man</td>\n",
       "      <td>True</td>\n",
       "      <td>NaN</td>\n",
       "      <td>Southampton</td>\n",
       "      <td>no</td>\n",
       "      <td>False</td>\n",
       "    </tr>\n",
       "    <tr>\n",
       "      <th>1</th>\n",
       "      <td>1</td>\n",
       "      <td>1</td>\n",
       "      <td>female</td>\n",
       "      <td>38.0</td>\n",
       "      <td>1</td>\n",
       "      <td>0</td>\n",
       "      <td>71.2833</td>\n",
       "      <td>C</td>\n",
       "      <td>First</td>\n",
       "      <td>woman</td>\n",
       "      <td>False</td>\n",
       "      <td>C</td>\n",
       "      <td>Cherbourg</td>\n",
       "      <td>yes</td>\n",
       "      <td>False</td>\n",
       "    </tr>\n",
       "    <tr>\n",
       "      <th>2</th>\n",
       "      <td>1</td>\n",
       "      <td>3</td>\n",
       "      <td>female</td>\n",
       "      <td>26.0</td>\n",
       "      <td>0</td>\n",
       "      <td>0</td>\n",
       "      <td>7.9250</td>\n",
       "      <td>S</td>\n",
       "      <td>Third</td>\n",
       "      <td>woman</td>\n",
       "      <td>False</td>\n",
       "      <td>NaN</td>\n",
       "      <td>Southampton</td>\n",
       "      <td>yes</td>\n",
       "      <td>True</td>\n",
       "    </tr>\n",
       "    <tr>\n",
       "      <th>3</th>\n",
       "      <td>1</td>\n",
       "      <td>1</td>\n",
       "      <td>female</td>\n",
       "      <td>35.0</td>\n",
       "      <td>1</td>\n",
       "      <td>0</td>\n",
       "      <td>53.1000</td>\n",
       "      <td>S</td>\n",
       "      <td>First</td>\n",
       "      <td>woman</td>\n",
       "      <td>False</td>\n",
       "      <td>C</td>\n",
       "      <td>Southampton</td>\n",
       "      <td>yes</td>\n",
       "      <td>False</td>\n",
       "    </tr>\n",
       "    <tr>\n",
       "      <th>4</th>\n",
       "      <td>0</td>\n",
       "      <td>3</td>\n",
       "      <td>male</td>\n",
       "      <td>35.0</td>\n",
       "      <td>0</td>\n",
       "      <td>0</td>\n",
       "      <td>8.0500</td>\n",
       "      <td>S</td>\n",
       "      <td>Third</td>\n",
       "      <td>man</td>\n",
       "      <td>True</td>\n",
       "      <td>NaN</td>\n",
       "      <td>Southampton</td>\n",
       "      <td>no</td>\n",
       "      <td>True</td>\n",
       "    </tr>\n",
       "  </tbody>\n",
       "</table>\n",
       "</div>"
      ],
      "text/plain": [
       "   survived  pclass     sex   age  sibsp  parch     fare embarked  class  \\\n",
       "0         0       3    male  22.0      1      0   7.2500        S  Third   \n",
       "1         1       1  female  38.0      1      0  71.2833        C  First   \n",
       "2         1       3  female  26.0      0      0   7.9250        S  Third   \n",
       "3         1       1  female  35.0      1      0  53.1000        S  First   \n",
       "4         0       3    male  35.0      0      0   8.0500        S  Third   \n",
       "\n",
       "     who  adult_male deck  embark_town alive  alone  \n",
       "0    man        True  NaN  Southampton    no  False  \n",
       "1  woman       False    C    Cherbourg   yes  False  \n",
       "2  woman       False  NaN  Southampton   yes   True  \n",
       "3  woman       False    C  Southampton   yes  False  \n",
       "4    man        True  NaN  Southampton    no   True  "
      ]
     },
     "execution_count": 19,
     "metadata": {},
     "output_type": "execute_result"
    }
   ],
   "source": [
    "import seaborn as sns\n",
    "import pandas as pd\n",
    "\n",
    "titanic = sns.load_dataset('titanic')\n",
    "titanic.head()"
   ]
  },
  {
   "cell_type": "markdown",
   "metadata": {},
   "source": [
    "#### 수치 매핑"
   ]
  },
  {
   "cell_type": "code",
   "execution_count": 17,
   "metadata": {},
   "outputs": [
    {
     "name": "stdout",
     "output_type": "stream",
     "text": [
      "   survived  pclass  sex   age  sibsp  parch     fare embarked  class    who  \\\n",
      "0         0       3    0  22.0      1      0   7.2500        S  Third    man   \n",
      "1         1       1    1  38.0      1      0  71.2833        C  First  woman   \n",
      "2         1       3    1  26.0      0      0   7.9250        S  Third  woman   \n",
      "3         1       1    1  35.0      1      0  53.1000        S  First  woman   \n",
      "4         0       3    0  35.0      0      0   8.0500        S  Third    man   \n",
      "\n",
      "   adult_male deck  embark_town alive  alone  \n",
      "0        True  NaN  Southampton    no  False  \n",
      "1       False    C    Cherbourg   yes  False  \n",
      "2       False  NaN  Southampton   yes   True  \n",
      "3       False    C  Southampton   yes  False  \n",
      "4        True  NaN  Southampton    no   True  \n"
     ]
    }
   ],
   "source": [
    "titanic = titanic.replace({\n",
    "    'male':0, 'female':1\n",
    "})\n",
    "\n",
    "print(titanic.head())"
   ]
  },
  {
   "cell_type": "markdown",
   "metadata": {},
   "source": [
    "#### 더미 방식"
   ]
  },
  {
   "cell_type": "code",
   "execution_count": 21,
   "metadata": {},
   "outputs": [
    {
     "name": "stdout",
     "output_type": "stream",
     "text": [
      "   embarked_C  embarked_Q  embarked_S\n",
      "0           0           0           1\n",
      "1           1           0           0\n",
      "2           0           0           1\n",
      "3           0           0           1\n",
      "4           0           0           1\n"
     ]
    }
   ],
   "source": [
    "dummies = pd.get_dummies(titanic[['embarked']])\n",
    "print(dummies.head())"
   ]
  },
  {
   "cell_type": "markdown",
   "metadata": {},
   "source": [
    "### 수치형 자료 전처리"
   ]
  },
  {
   "cell_type": "markdown",
   "metadata": {},
   "source": [
    "수치로 이뤄져있어 바로 사용할 수 있자만 모델의 성능을 위해 변환 필요"
   ]
  },
  {
   "cell_type": "markdown",
   "metadata": {},
   "source": [
    "1. 스케일링\n",
    "- 변수 값의 범위 및 크기를 변환\n",
    "- 변수간의 범위가 차이 나면 사용\n",
    "\n",
    "    1) 정규화\n",
    "    \n",
    "    2) 표준화\n",
    "    \n",
    "    3) 범주화"
   ]
  },
  {
   "cell_type": "markdown",
   "metadata": {},
   "source": [
    "#### 1) 정규화"
   ]
  },
  {
   "cell_type": "code",
   "execution_count": 25,
   "metadata": {},
   "outputs": [
    {
     "name": "stdout",
     "output_type": "stream",
     "text": [
      "0       7.2500\n",
      "1      71.2833\n",
      "2       7.9250\n",
      "3      53.1000\n",
      "4       8.0500\n",
      "        ...   \n",
      "886    13.0000\n",
      "887    30.0000\n",
      "888    23.4500\n",
      "889    30.0000\n",
      "890     7.7500\n",
      "Name: fare, Length: 891, dtype: float64\n",
      "변환 후\n",
      "0      0.014151\n",
      "1      0.139136\n",
      "2      0.015469\n",
      "3      0.103644\n",
      "4      0.015713\n",
      "         ...   \n",
      "886    0.025374\n",
      "887    0.058556\n",
      "888    0.045771\n",
      "889    0.058556\n",
      "890    0.015127\n",
      "Name: fare, Length: 891, dtype: float64\n"
     ]
    }
   ],
   "source": [
    "def convert(data):\n",
    "    data = (data-data.min())/data.max()-data.min()\n",
    "    return data\n",
    "\n",
    "print(titanic['fare'])\n",
    "Fare = convert(titanic['fare'])\n",
    "print(\"변환 후\")\n",
    "print(Fare)\n",
    "\n",
    "    "
   ]
  },
  {
   "cell_type": "markdown",
   "metadata": {},
   "source": [
    "#### 2)표준화"
   ]
  },
  {
   "cell_type": "code",
   "execution_count": 27,
   "metadata": {},
   "outputs": [
    {
     "name": "stdout",
     "output_type": "stream",
     "text": [
      "0       7.2500\n",
      "1      71.2833\n",
      "2       7.9250\n",
      "3      53.1000\n",
      "4       8.0500\n",
      "        ...   \n",
      "886    13.0000\n",
      "887    30.0000\n",
      "888    23.4500\n",
      "889    30.0000\n",
      "890     7.7500\n",
      "Name: fare, Length: 891, dtype: float64\n",
      "변환 후\n",
      "0     -0.502163\n",
      "1      0.786404\n",
      "2     -0.488580\n",
      "3      0.420494\n",
      "4     -0.486064\n",
      "         ...   \n",
      "886   -0.386454\n",
      "887   -0.044356\n",
      "888   -0.176164\n",
      "889   -0.044356\n",
      "890   -0.492101\n",
      "Name: fare, Length: 891, dtype: float64\n"
     ]
    }
   ],
   "source": [
    "def standard(data):\n",
    "    data = (data-data.mean())/data.std()\n",
    "    return data\n",
    "\n",
    "titanic = sns.load_dataset('titanic')\n",
    "print(titanic['fare'])\n",
    "\n",
    "Fare = standard(titanic['fare'])\n",
    "print('변환 후')\n",
    "print(Fare)"
   ]
  },
  {
   "cell_type": "markdown",
   "metadata": {},
   "source": [
    "### 데이터 정제 및 분리하기"
   ]
  },
  {
   "cell_type": "markdown",
   "metadata": {},
   "source": [
    "#### 결측치 처리하기\n",
    "머신러닝 모델의 입력 값으로 결측값 사용할 수 없다. Null, NaN 등\n",
    "\n",
    "처리 방식\n",
    "\n",
    "1) 샘플 삭제\n",
    "\n",
    "2) 결측값 많이 존재하는 변수 삭제\n",
    "\n",
    "3) 다른 값으로 대체\n",
    "\n",
    "#### 이상치 처리하기 \n",
    "\n",
    "이상치 존재 시 성능 저하할 수 있다.\n",
    "\n",
    "일반적으로 전 처리 과정에서 제거\n",
    "\n",
    "이상치 판단 기준이 중요\n",
    "\n",
    "처리 방식\n",
    "\n",
    "1) 통계 지표(카이제곱 등)\n",
    "\n",
    "2) 데이터 분포 보고 직접 판단\n",
    "\n",
    "3) 머신러닝 기법 사용 분류\n",
    "\n",
    "#### 데이터 분리\n",
    "머신러닝 모델을 평가하기 위해서 학습에 사용하지 않은 평가용 데이터 필요\n",
    "\n",
    "#### 지도학습 데이터 분리\n",
    "- feature 데이터 : label 예측위한 값\n",
    "- Label 데이터 : 예측해야 할 대상이 되는 데이터\n",
    "\n",
    "|공부시간|시험점수|공부 시간 대비 시험점 수|\n",
    "|--|--|--|\n",
    "|feature|label||"
   ]
  },
  {
   "cell_type": "code",
   "execution_count": 37,
   "metadata": {},
   "outputs": [
    {
     "name": "stdout",
     "output_type": "stream",
     "text": [
      "학습용 데이터 개수: 124\n",
      "평가용 데이터 개수: 54\n"
     ]
    }
   ],
   "source": [
    "from sklearn.model_selection import train_test_split\n",
    "\n",
    "titanic_1 = sns.load_dataset('titanic')\n",
    "\n",
    "# 결측값 제거\n",
    "titanic_2 = titanic_1.dropna()\n",
    "\n",
    "# 이상치 처리\n",
    "titanic_3 = titanic_2[titanic_2['age']-np.floor(titanic_2['age']) == 0 ]\n",
    "\n",
    "# feature & label 데이터 분리\n",
    "X = titanic_3.drop(columns=['survived']) # Survived 변수를 제거하여 X에 저장합니다.\n",
    "y = titanic_3['survived'] # Survived 변수를 y에 저장합니다.\n",
    "\n",
    "# 학습 및 평가용 데이터 분리\n",
    "X_train, X_test, y_train, y_test = train_test_split(X, y, test_size=0.3, random_state=42)\n",
    "\n",
    "# 분리한 데이터의 개수를 출력합니다.\n",
    "print('학습용 데이터 개수: %d' %(len(X_train)))\n",
    "print('평가용 데이터 개수: %d' %(len(X_test)))"
   ]
  },
  {
   "cell_type": "markdown",
   "metadata": {},
   "source": [
    "## 회귀 분석\n",
    "데이터 모델을 찾아 입력값에 따른 미래 결과값 예측 알고리즘"
   ]
  },
  {
   "cell_type": "markdown",
   "metadata": {},
   "source": [
    "### 문제정의\n",
    "- 데이터 : 과거 평균 기온 & 아이스크림 판매량\n",
    "- 가정 : 평균 기온과 판매량은 선형적인 관계\n",
    "- 목표 : 평균 기온에 따른 판매량 예측"
   ]
  },
  {
   "cell_type": "markdown",
   "metadata": {},
   "source": [
    "### 01 단순 선형 회귀\n",
    "$Y = B_0 + B_1X$"
   ]
  },
  {
   "cell_type": "code",
   "execution_count": null,
   "metadata": {},
   "outputs": [],
   "source": []
  }
 ],
 "metadata": {
  "kernelspec": {
   "display_name": "Python 3",
   "language": "python",
   "name": "python3"
  },
  "language_info": {
   "codemirror_mode": {
    "name": "ipython",
    "version": 3
   },
   "file_extension": ".py",
   "mimetype": "text/x-python",
   "name": "python",
   "nbconvert_exporter": "python",
   "pygments_lexer": "ipython3",
   "version": "3.7.6"
  }
 },
 "nbformat": 4,
 "nbformat_minor": 4
}
